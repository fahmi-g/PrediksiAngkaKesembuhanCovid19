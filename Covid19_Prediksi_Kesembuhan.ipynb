{
 "cells": [
  {
   "cell_type": "code",
   "execution_count": 2,
   "id": "3a73c510",
   "metadata": {},
   "outputs": [],
   "source": [
    "import pandas as pd\n",
    "import matplotlib.pyplot as plt\n",
    "import seaborn as sns\n",
    "import random as rnd\n",
    "from sklearn import datasets, linear_model\n",
    "from sklearn import preprocessing\n",
    "from sklearn.model_selection import train_test_split\n",
    "from sklearn.feature_selection import RFE"
   ]
  },
  {
   "cell_type": "code",
   "execution_count": 3,
   "id": "3c26ac20",
   "metadata": {
    "scrolled": true
   },
   "outputs": [
    {
     "data": {
      "text/html": [
       "<div>\n",
       "<style scoped>\n",
       "    .dataframe tbody tr th:only-of-type {\n",
       "        vertical-align: middle;\n",
       "    }\n",
       "\n",
       "    .dataframe tbody tr th {\n",
       "        vertical-align: top;\n",
       "    }\n",
       "\n",
       "    .dataframe thead th {\n",
       "        text-align: right;\n",
       "    }\n",
       "</style>\n",
       "<table border=\"1\" class=\"dataframe\">\n",
       "  <thead>\n",
       "    <tr style=\"text-align: right;\">\n",
       "      <th></th>\n",
       "      <th>Unnamed: 0</th>\n",
       "      <th>Kasus harian</th>\n",
       "      <th>Kasus Impor</th>\n",
       "      <th>Kasus Lokal</th>\n",
       "      <th>Total kasus</th>\n",
       "      <th>Kasus aktif</th>\n",
       "      <th>% kasus aktif</th>\n",
       "      <th>Sembuh\\n(baru)</th>\n",
       "      <th>Sembuh</th>\n",
       "      <th>Tingkat kesembuhan (seluruh kasus)</th>\n",
       "      <th>...</th>\n",
       "      <th>Positif DKI</th>\n",
       "      <th>Unnamed: 76</th>\n",
       "      <th>Pos Rate DKI</th>\n",
       "      <th>Pos Rate DKI - 7 harian</th>\n",
       "      <th>NON DKI</th>\n",
       "      <th>Positif Non DKI</th>\n",
       "      <th>Unnamed: 81</th>\n",
       "      <th>Pos Rate Non DKI</th>\n",
       "      <th>Pos Rate Non DKI - 7 harian</th>\n",
       "      <th>CFR</th>\n",
       "    </tr>\n",
       "  </thead>\n",
       "  <tbody>\n",
       "    <tr>\n",
       "      <th>0</th>\n",
       "      <td>2-Mar</td>\n",
       "      <td>2</td>\n",
       "      <td>0.0</td>\n",
       "      <td>2.0</td>\n",
       "      <td>2.0</td>\n",
       "      <td>2</td>\n",
       "      <td>100.00%</td>\n",
       "      <td>0</td>\n",
       "      <td>0.0</td>\n",
       "      <td>0.00%</td>\n",
       "      <td>...</td>\n",
       "      <td>NaN</td>\n",
       "      <td>NaN</td>\n",
       "      <td>NaN</td>\n",
       "      <td>NaN</td>\n",
       "      <td>NaN</td>\n",
       "      <td>NaN</td>\n",
       "      <td>NaN</td>\n",
       "      <td>NaN</td>\n",
       "      <td>NaN</td>\n",
       "      <td>NaN</td>\n",
       "    </tr>\n",
       "    <tr>\n",
       "      <th>1</th>\n",
       "      <td>3-Mar</td>\n",
       "      <td>0</td>\n",
       "      <td>0.0</td>\n",
       "      <td>0.0</td>\n",
       "      <td>2.0</td>\n",
       "      <td>2</td>\n",
       "      <td>100.00%</td>\n",
       "      <td>0</td>\n",
       "      <td>0.0</td>\n",
       "      <td>0.00%</td>\n",
       "      <td>...</td>\n",
       "      <td>NaN</td>\n",
       "      <td>NaN</td>\n",
       "      <td>NaN</td>\n",
       "      <td>NaN</td>\n",
       "      <td>NaN</td>\n",
       "      <td>NaN</td>\n",
       "      <td>NaN</td>\n",
       "      <td>NaN</td>\n",
       "      <td>NaN</td>\n",
       "      <td>NaN</td>\n",
       "    </tr>\n",
       "    <tr>\n",
       "      <th>2</th>\n",
       "      <td>4-Mar</td>\n",
       "      <td>0</td>\n",
       "      <td>0.0</td>\n",
       "      <td>0.0</td>\n",
       "      <td>2.0</td>\n",
       "      <td>2</td>\n",
       "      <td>100.00%</td>\n",
       "      <td>0</td>\n",
       "      <td>0.0</td>\n",
       "      <td>0.00%</td>\n",
       "      <td>...</td>\n",
       "      <td>NaN</td>\n",
       "      <td>NaN</td>\n",
       "      <td>NaN</td>\n",
       "      <td>NaN</td>\n",
       "      <td>NaN</td>\n",
       "      <td>NaN</td>\n",
       "      <td>NaN</td>\n",
       "      <td>NaN</td>\n",
       "      <td>NaN</td>\n",
       "      <td>NaN</td>\n",
       "    </tr>\n",
       "    <tr>\n",
       "      <th>3</th>\n",
       "      <td>5-Mar</td>\n",
       "      <td>0</td>\n",
       "      <td>0.0</td>\n",
       "      <td>0.0</td>\n",
       "      <td>2.0</td>\n",
       "      <td>2</td>\n",
       "      <td>100.00%</td>\n",
       "      <td>0</td>\n",
       "      <td>0.0</td>\n",
       "      <td>0.00%</td>\n",
       "      <td>...</td>\n",
       "      <td>NaN</td>\n",
       "      <td>NaN</td>\n",
       "      <td>NaN</td>\n",
       "      <td>NaN</td>\n",
       "      <td>NaN</td>\n",
       "      <td>NaN</td>\n",
       "      <td>NaN</td>\n",
       "      <td>NaN</td>\n",
       "      <td>NaN</td>\n",
       "      <td>NaN</td>\n",
       "    </tr>\n",
       "    <tr>\n",
       "      <th>4</th>\n",
       "      <td>6-Mar</td>\n",
       "      <td>2</td>\n",
       "      <td>0.0</td>\n",
       "      <td>2.0</td>\n",
       "      <td>4.0</td>\n",
       "      <td>4</td>\n",
       "      <td>100.00%</td>\n",
       "      <td>0</td>\n",
       "      <td>0.0</td>\n",
       "      <td>0.00%</td>\n",
       "      <td>...</td>\n",
       "      <td>NaN</td>\n",
       "      <td>NaN</td>\n",
       "      <td>NaN</td>\n",
       "      <td>NaN</td>\n",
       "      <td>NaN</td>\n",
       "      <td>NaN</td>\n",
       "      <td>NaN</td>\n",
       "      <td>NaN</td>\n",
       "      <td>NaN</td>\n",
       "      <td>NaN</td>\n",
       "    </tr>\n",
       "  </tbody>\n",
       "</table>\n",
       "<p>5 rows × 85 columns</p>\n",
       "</div>"
      ],
      "text/plain": [
       "  Unnamed: 0 Kasus harian  Kasus Impor  Kasus Lokal  Total kasus Kasus aktif  \\\n",
       "0      2-Mar            2          0.0          2.0          2.0           2   \n",
       "1      3-Mar            0          0.0          0.0          2.0           2   \n",
       "2      4-Mar            0          0.0          0.0          2.0           2   \n",
       "3      5-Mar            0          0.0          0.0          2.0           2   \n",
       "4      6-Mar            2          0.0          2.0          4.0           4   \n",
       "\n",
       "  % kasus aktif Sembuh\\n(baru)  Sembuh Tingkat kesembuhan (seluruh kasus)  \\\n",
       "0       100.00%              0     0.0                              0.00%   \n",
       "1       100.00%              0     0.0                              0.00%   \n",
       "2       100.00%              0     0.0                              0.00%   \n",
       "3       100.00%              0     0.0                              0.00%   \n",
       "4       100.00%              0     0.0                              0.00%   \n",
       "\n",
       "   ... Positif DKI Unnamed: 76 Pos Rate DKI Pos Rate DKI - 7 harian NON DKI  \\\n",
       "0  ...         NaN         NaN          NaN                     NaN     NaN   \n",
       "1  ...         NaN         NaN          NaN                     NaN     NaN   \n",
       "2  ...         NaN         NaN          NaN                     NaN     NaN   \n",
       "3  ...         NaN         NaN          NaN                     NaN     NaN   \n",
       "4  ...         NaN         NaN          NaN                     NaN     NaN   \n",
       "\n",
       "  Positif Non DKI Unnamed: 81 Pos Rate Non DKI Pos Rate Non DKI - 7 harian  \\\n",
       "0             NaN         NaN              NaN                         NaN   \n",
       "1             NaN         NaN              NaN                         NaN   \n",
       "2             NaN         NaN              NaN                         NaN   \n",
       "3             NaN         NaN              NaN                         NaN   \n",
       "4             NaN         NaN              NaN                         NaN   \n",
       "\n",
       "   CFR  \n",
       "0  NaN  \n",
       "1  NaN  \n",
       "2  NaN  \n",
       "3  NaN  \n",
       "4  NaN  \n",
       "\n",
       "[5 rows x 85 columns]"
      ]
     },
     "execution_count": 3,
     "metadata": {},
     "output_type": "execute_result"
    }
   ],
   "source": [
    "data = pd.read_csv(\"csvs/CovidData-Nov.csv\")\n",
    "\n",
    "#load sebagai pandas dataframe\n",
    "df = pd.DataFrame(data).iloc[:600,:]\n",
    "df.head()"
   ]
  },
  {
   "cell_type": "code",
   "execution_count": 4,
   "id": "0a631d7f",
   "metadata": {},
   "outputs": [
    {
     "data": {
      "text/plain": [
       "<AxesSubplot:ylabel='Frequency'>"
      ]
     },
     "execution_count": 4,
     "metadata": {},
     "output_type": "execute_result"
    },
    {
     "data": {
      "image/png": "[encoded data removed]",
      "text/plain": [
       "<Figure size 720x360 with 1 Axes>"
      ]
     },
     "metadata": {
      "needs_background": "light"
     },
     "output_type": "display_data"
    }
   ],
   "source": [
    "#Visualisasi bagaimana data terdistribusi\n",
    "plt.figure(figsize = (10, 5))\n",
    "df['Sembuh'].plot(kind=\"hist\")"
   ]
  },
  {
   "cell_type": "code",
   "execution_count": 5,
   "id": "39a4b1f8",
   "metadata": {},
   "outputs": [
    {
     "data": {
      "text/html": [
       "<div>\n",
       "<style scoped>\n",
       "    .dataframe tbody tr th:only-of-type {\n",
       "        vertical-align: middle;\n",
       "    }\n",
       "\n",
       "    .dataframe tbody tr th {\n",
       "        vertical-align: top;\n",
       "    }\n",
       "\n",
       "    .dataframe thead th {\n",
       "        text-align: right;\n",
       "    }\n",
       "</style>\n",
       "<table border=\"1\" class=\"dataframe\">\n",
       "  <thead>\n",
       "    <tr style=\"text-align: right;\">\n",
       "      <th></th>\n",
       "      <th>Kasus harian</th>\n",
       "      <th>Kasus Impor</th>\n",
       "      <th>Kasus Lokal</th>\n",
       "      <th>Total kasus</th>\n",
       "      <th>Kasus aktif</th>\n",
       "      <th>% kasus aktif</th>\n",
       "      <th>Sembuh\\n(baru)</th>\n",
       "      <th>Sembuh</th>\n",
       "    </tr>\n",
       "  </thead>\n",
       "  <tbody>\n",
       "    <tr>\n",
       "      <th>0</th>\n",
       "      <td>2</td>\n",
       "      <td>0.0</td>\n",
       "      <td>2.0</td>\n",
       "      <td>2.0</td>\n",
       "      <td>2</td>\n",
       "      <td>100.00%</td>\n",
       "      <td>0</td>\n",
       "      <td>0.0</td>\n",
       "    </tr>\n",
       "    <tr>\n",
       "      <th>1</th>\n",
       "      <td>0</td>\n",
       "      <td>0.0</td>\n",
       "      <td>0.0</td>\n",
       "      <td>2.0</td>\n",
       "      <td>2</td>\n",
       "      <td>100.00%</td>\n",
       "      <td>0</td>\n",
       "      <td>0.0</td>\n",
       "    </tr>\n",
       "    <tr>\n",
       "      <th>2</th>\n",
       "      <td>0</td>\n",
       "      <td>0.0</td>\n",
       "      <td>0.0</td>\n",
       "      <td>2.0</td>\n",
       "      <td>2</td>\n",
       "      <td>100.00%</td>\n",
       "      <td>0</td>\n",
       "      <td>0.0</td>\n",
       "    </tr>\n",
       "    <tr>\n",
       "      <th>3</th>\n",
       "      <td>0</td>\n",
       "      <td>0.0</td>\n",
       "      <td>0.0</td>\n",
       "      <td>2.0</td>\n",
       "      <td>2</td>\n",
       "      <td>100.00%</td>\n",
       "      <td>0</td>\n",
       "      <td>0.0</td>\n",
       "    </tr>\n",
       "    <tr>\n",
       "      <th>4</th>\n",
       "      <td>2</td>\n",
       "      <td>0.0</td>\n",
       "      <td>2.0</td>\n",
       "      <td>4.0</td>\n",
       "      <td>4</td>\n",
       "      <td>100.00%</td>\n",
       "      <td>0</td>\n",
       "      <td>0.0</td>\n",
       "    </tr>\n",
       "    <tr>\n",
       "      <th>...</th>\n",
       "      <td>...</td>\n",
       "      <td>...</td>\n",
       "      <td>...</td>\n",
       "      <td>...</td>\n",
       "      <td>...</td>\n",
       "      <td>...</td>\n",
       "      <td>...</td>\n",
       "      <td>...</td>\n",
       "    </tr>\n",
       "    <tr>\n",
       "      <th>595</th>\n",
       "      <td>903</td>\n",
       "      <td>NaN</td>\n",
       "      <td>NaN</td>\n",
       "      <td>4236287.0</td>\n",
       "      <td>16,697</td>\n",
       "      <td>0.39%</td>\n",
       "      <td>1,530</td>\n",
       "      <td>4076541.0</td>\n",
       "    </tr>\n",
       "    <tr>\n",
       "      <th>596</th>\n",
       "      <td>914</td>\n",
       "      <td>NaN</td>\n",
       "      <td>NaN</td>\n",
       "      <td>4237201.0</td>\n",
       "      <td>16,376</td>\n",
       "      <td>0.39%</td>\n",
       "      <td>1,207</td>\n",
       "      <td>4077748.0</td>\n",
       "    </tr>\n",
       "    <tr>\n",
       "      <th>597</th>\n",
       "      <td>633</td>\n",
       "      <td>NaN</td>\n",
       "      <td>NaN</td>\n",
       "      <td>4237834.0</td>\n",
       "      <td>15,594</td>\n",
       "      <td>0.37%</td>\n",
       "      <td>1,372</td>\n",
       "      <td>4079120.0</td>\n",
       "    </tr>\n",
       "    <tr>\n",
       "      <th>598</th>\n",
       "      <td>760</td>\n",
       "      <td>NaN</td>\n",
       "      <td>NaN</td>\n",
       "      <td>4238594.0</td>\n",
       "      <td>15,090</td>\n",
       "      <td>0.36%</td>\n",
       "      <td>1,231</td>\n",
       "      <td>4080351.0</td>\n",
       "    </tr>\n",
       "    <tr>\n",
       "      <th>599</th>\n",
       "      <td>802</td>\n",
       "      <td>NaN</td>\n",
       "      <td>NaN</td>\n",
       "      <td>4239396.0</td>\n",
       "      <td>14,803</td>\n",
       "      <td>0.35%</td>\n",
       "      <td>1,066</td>\n",
       "      <td>4081417.0</td>\n",
       "    </tr>\n",
       "  </tbody>\n",
       "</table>\n",
       "<p>600 rows × 8 columns</p>\n",
       "</div>"
      ],
      "text/plain": [
       "    Kasus harian  Kasus Impor  Kasus Lokal  Total kasus Kasus aktif  \\\n",
       "0              2          0.0          2.0          2.0           2   \n",
       "1              0          0.0          0.0          2.0           2   \n",
       "2              0          0.0          0.0          2.0           2   \n",
       "3              0          0.0          0.0          2.0           2   \n",
       "4              2          0.0          2.0          4.0           4   \n",
       "..           ...          ...          ...          ...         ...   \n",
       "595          903          NaN          NaN    4236287.0      16,697   \n",
       "596          914          NaN          NaN    4237201.0      16,376   \n",
       "597          633          NaN          NaN    4237834.0      15,594   \n",
       "598          760          NaN          NaN    4238594.0      15,090   \n",
       "599          802          NaN          NaN    4239396.0      14,803   \n",
       "\n",
       "    % kasus aktif Sembuh\\n(baru)     Sembuh  \n",
       "0         100.00%              0        0.0  \n",
       "1         100.00%              0        0.0  \n",
       "2         100.00%              0        0.0  \n",
       "3         100.00%              0        0.0  \n",
       "4         100.00%              0        0.0  \n",
       "..            ...            ...        ...  \n",
       "595         0.39%          1,530  4076541.0  \n",
       "596         0.39%          1,207  4077748.0  \n",
       "597         0.37%          1,372  4079120.0  \n",
       "598         0.36%          1,231  4080351.0  \n",
       "599         0.35%          1,066  4081417.0  \n",
       "\n",
       "[600 rows x 8 columns]"
      ]
     },
     "execution_count": 5,
     "metadata": {},
     "output_type": "execute_result"
    }
   ],
   "source": [
    "# menyingkirkan data yang bukan numerik\n",
    "#dan melakukan cek korelasi antar data\n",
    "\n",
    "checkCorrelation = df.iloc[:,1:9]\n",
    "newData = df[[\"Total kasus\", \"Sembuh\"]]\n",
    "checkCorrelation"
   ]
  },
  {
   "cell_type": "code",
   "execution_count": 6,
   "id": "c092aad6",
   "metadata": {
    "scrolled": true
   },
   "outputs": [
    {
     "data": {
      "text/plain": [
       "<AxesSubplot:>"
      ]
     },
     "execution_count": 6,
     "metadata": {},
     "output_type": "execute_result"
    },
    {
     "data": {
      "image/png": "[encoded data removed]",
      "text/plain": [
       "<Figure size 648x576 with 2 Axes>"
      ]
     },
     "metadata": {
      "needs_background": "light"
     },
     "output_type": "display_data"
    }
   ],
   "source": [
    "#Pembuktian korelasi antar data\n",
    "\n",
    "plt.figure(figsize=(9,8))\n",
    "cor = checkCorrelation.corr()\n",
    "sns.heatmap(cor, annot=True, cmap=plt.cm.RdYlBu)"
   ]
  },
  {
   "cell_type": "markdown",
   "id": "756526b4",
   "metadata": {},
   "source": [
    "## Melakukan shifting data sembuh sebanyak 7 hari"
   ]
  },
  {
   "cell_type": "code",
   "execution_count": 57,
   "id": "9a5934ac",
   "metadata": {},
   "outputs": [
    {
     "data": {
      "text/html": [
       "<div>\n",
       "<style scoped>\n",
       "    .dataframe tbody tr th:only-of-type {\n",
       "        vertical-align: middle;\n",
       "    }\n",
       "\n",
       "    .dataframe tbody tr th {\n",
       "        vertical-align: top;\n",
       "    }\n",
       "\n",
       "    .dataframe thead th {\n",
       "        text-align: right;\n",
       "    }\n",
       "</style>\n",
       "<table border=\"1\" class=\"dataframe\">\n",
       "  <thead>\n",
       "    <tr style=\"text-align: right;\">\n",
       "      <th></th>\n",
       "      <th>Total kasus</th>\n",
       "      <th>Sembuh</th>\n",
       "    </tr>\n",
       "  </thead>\n",
       "  <tbody>\n",
       "    <tr>\n",
       "      <th>0</th>\n",
       "      <td>2.0</td>\n",
       "      <td>0.0</td>\n",
       "    </tr>\n",
       "    <tr>\n",
       "      <th>1</th>\n",
       "      <td>2.0</td>\n",
       "      <td>0.0</td>\n",
       "    </tr>\n",
       "    <tr>\n",
       "      <th>2</th>\n",
       "      <td>2.0</td>\n",
       "      <td>3.0</td>\n",
       "    </tr>\n",
       "    <tr>\n",
       "      <th>3</th>\n",
       "      <td>2.0</td>\n",
       "      <td>5.0</td>\n",
       "    </tr>\n",
       "    <tr>\n",
       "      <th>4</th>\n",
       "      <td>4.0</td>\n",
       "      <td>8.0</td>\n",
       "    </tr>\n",
       "    <tr>\n",
       "      <th>...</th>\n",
       "      <td>...</td>\n",
       "      <td>...</td>\n",
       "    </tr>\n",
       "    <tr>\n",
       "      <th>588</th>\n",
       "      <td>4229813.0</td>\n",
       "      <td>4076541.0</td>\n",
       "    </tr>\n",
       "    <tr>\n",
       "      <th>589</th>\n",
       "      <td>4231046.0</td>\n",
       "      <td>4077748.0</td>\n",
       "    </tr>\n",
       "    <tr>\n",
       "      <th>590</th>\n",
       "      <td>4232099.0</td>\n",
       "      <td>4079120.0</td>\n",
       "    </tr>\n",
       "    <tr>\n",
       "      <th>591</th>\n",
       "      <td>4233014.0</td>\n",
       "      <td>4080351.0</td>\n",
       "    </tr>\n",
       "    <tr>\n",
       "      <th>592</th>\n",
       "      <td>4234011.0</td>\n",
       "      <td>4081417.0</td>\n",
       "    </tr>\n",
       "  </tbody>\n",
       "</table>\n",
       "<p>593 rows × 2 columns</p>\n",
       "</div>"
      ],
      "text/plain": [
       "     Total kasus     Sembuh\n",
       "0            2.0        0.0\n",
       "1            2.0        0.0\n",
       "2            2.0        3.0\n",
       "3            2.0        5.0\n",
       "4            4.0        8.0\n",
       "..           ...        ...\n",
       "588    4229813.0  4076541.0\n",
       "589    4231046.0  4077748.0\n",
       "590    4232099.0  4079120.0\n",
       "591    4233014.0  4080351.0\n",
       "592    4234011.0  4081417.0\n",
       "\n",
       "[593 rows x 2 columns]"
      ]
     },
     "execution_count": 57,
     "metadata": {},
     "output_type": "execute_result"
    }
   ],
   "source": [
    "#Karena korelasi antara total kasus dan sembuh sangat tinggi,\n",
    "#maka terbukti saling cocok dan dipilih\n",
    "\n",
    "#Melakukan Shifting data sembuh\n",
    "#untuk memprediksi angka kesenbuhan 7 hari kedepan\n",
    "\n",
    "x = pd.DataFrame(df[\"Total kasus\"]).iloc[:593,:]\n",
    "y = pd.DataFrame(df[\"Sembuh\"]).iloc[7:,:]\n",
    "\n",
    "selectedData = pd.concat([x.reset_index(),y.reset_index()],axis=1)\n",
    "selectedData.drop(['index'], axis=1)"
   ]
  },
  {
   "cell_type": "code",
   "execution_count": 58,
   "id": "e0abd21e",
   "metadata": {
    "scrolled": true
   },
   "outputs": [
    {
     "name": "stdout",
     "output_type": "stream",
     "text": [
      "(474, 1) (474, 1)\n",
      "(119, 1) (119, 1)\n"
     ]
    }
   ],
   "source": [
    "x_train, x_test, y_train, y_test = train_test_split(x, y, test_size=0.2)\n",
    "print(x_train.shape, y_train.shape)\n",
    "print(x_test.shape, y_test.shape)"
   ]
  },
  {
   "cell_type": "code",
   "execution_count": 59,
   "id": "963497f5",
   "metadata": {},
   "outputs": [],
   "source": [
    "#Value manual untuk diprediksi\n",
    "tes = pd.DataFrame([700000,245342,4116890,727122,84882,2000000])"
   ]
  },
  {
   "cell_type": "code",
   "execution_count": 60,
   "id": "edb0a2f7",
   "metadata": {},
   "outputs": [],
   "source": [
    "LR = linear_model.LinearRegression()\n",
    "LR_train = LR.fit(x_train, y_train)\n",
    "prediction = LR.predict(tes)"
   ]
  },
  {
   "cell_type": "code",
   "execution_count": 61,
   "id": "55f42122",
   "metadata": {
    "scrolled": true
   },
   "outputs": [
    {
     "data": {
      "text/plain": [
       "array([[ 633139.74684457],\n",
       "       [ 202473.73777386],\n",
       "       [3869722.80429345],\n",
       "       [ 658830.53750043],\n",
       "       [  50481.10195642],\n",
       "       [1864539.63817369]])"
      ]
     },
     "execution_count": 61,
     "metadata": {},
     "output_type": "execute_result"
    }
   ],
   "source": [
    "prediction[0:10]"
   ]
  },
  {
   "cell_type": "code",
   "execution_count": 62,
   "id": "02e533dd",
   "metadata": {},
   "outputs": [],
   "source": [
    "##Pengujian dengan x_test"
   ]
  },
  {
   "cell_type": "code",
   "execution_count": 63,
   "id": "ceb2a0aa",
   "metadata": {},
   "outputs": [],
   "source": [
    "LR_train = LR.fit(x_train, y_train)\n",
    "prediction = LR.predict(x_test)"
   ]
  },
  {
   "cell_type": "code",
   "execution_count": 64,
   "id": "cb60a67d",
   "metadata": {},
   "outputs": [
    {
     "data": {
      "image/png": "[encoded data removed]",
      "text/plain": [
       "<Figure size 432x288 with 1 Axes>"
      ]
     },
     "metadata": {
      "needs_background": "light"
     },
     "output_type": "display_data"
    }
   ],
   "source": [
    "#realData\n",
    "selectedData.plot(kind='scatter', x='Total kasus', y='Sembuh')\n",
    "\n",
    "#prediction\n",
    "plt.plot(x_test, prediction, color='red', linewidth=2)\n",
    "plt.show()"
   ]
  },
  {
   "cell_type": "code",
   "execution_count": 65,
   "id": "d9b4e74c",
   "metadata": {},
   "outputs": [
    {
     "name": "stdout",
     "output_type": "stream",
     "text": [
      "0.9977480531600715\n"
     ]
    }
   ],
   "source": [
    "#Evaluation R2\n",
    "\n",
    "from sklearn.metrics import r2_score\n",
    "\n",
    "score = r2_score(y_test, prediction)\n",
    "\n",
    "print(score)"
   ]
  }
 ],
 "metadata": {
  "kernelspec": {
   "display_name": "Python 3",
   "language": "python",
   "name": "python3"
  },
  "language_info": {
   "codemirror_mode": {
    "name": "ipython",
    "version": 3
   },
   "file_extension": ".py",
   "mimetype": "text/x-python",
   "name": "python",
   "nbconvert_exporter": "python",
   "pygments_lexer": "ipython3",
   "version": "3.8.8"
  }
 },
 "nbformat": 4,
 "nbformat_minor": 5
}
